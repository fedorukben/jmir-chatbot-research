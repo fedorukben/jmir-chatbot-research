{
 "cells": [
  {
   "cell_type": "code",
   "execution_count": 87,
   "id": "89b1f01f",
   "metadata": {},
   "outputs": [
    {
     "name": "stdout",
     "output_type": "stream",
     "text": [
      "Defaulting to user installation because normal site-packages is not writeable\n",
      "Requirement already satisfied: pandas in /home/ben/.local/lib/python3.10/site-packages (1.3.5)\n",
      "Requirement already satisfied: beautifulsoup4 in /usr/lib/python3.10/site-packages (4.10.0)\n",
      "Requirement already satisfied: soupsieve>1.2 in /usr/lib/python3.10/site-packages (from beautifulsoup4) (2.2.1)\n",
      "Requirement already satisfied: numpy>=1.21.0 in /home/ben/.local/lib/python3.10/site-packages (from pandas) (1.22.0)\n",
      "Requirement already satisfied: pytz>=2017.3 in /home/ben/.local/lib/python3.10/site-packages (from pandas) (2021.3)\n",
      "Requirement already satisfied: python-dateutil>=2.7.3 in /usr/lib/python3.10/site-packages (from pandas) (2.8.2)\n",
      "Requirement already satisfied: six>=1.5 in /usr/lib/python3.10/site-packages (from python-dateutil>=2.7.3->pandas) (1.16.0)\n",
      "Note: you may need to restart the kernel to use updated packages.\n"
     ]
    }
   ],
   "source": [
    "%pip install pandas beautifulsoup4"
   ]
  },
  {
   "cell_type": "code",
   "execution_count": 98,
   "id": "da7d95c1",
   "metadata": {},
   "outputs": [],
   "source": [
    "import pandas as pd\n",
    "from bs4 import BeautifulSoup\n",
    "import json\n",
    "import re"
   ]
  },
  {
   "cell_type": "code",
   "execution_count": 128,
   "id": "da78df8e",
   "metadata": {},
   "outputs": [],
   "source": [
    "def get_bot_q_and_a(json_data, i, j):\n",
    "    return {'question': json_data[i]['used_queries'][0]['query'], 'response': BeautifulSoup(re.sub('<[^<]+?>', '', ' '.join(list(json_data[i]['used_queries'][0]['results'][j].values())))).text}"
   ]
  },
  {
   "cell_type": "code",
   "execution_count": 163,
   "id": "6f8179bd",
   "metadata": {},
   "outputs": [
    {
     "name": "stdout",
     "output_type": "stream",
     "text": [
      "Conversion completed, 8 of 12875 skipped.\n"
     ]
    }
   ],
   "source": [
    "with open('../data/train.json') as json_file:\n",
    "    json_data = json.load(json_file)\n",
    "\n",
    "    # print(get_bot_q_and_a(json_data, 5, 0))\n",
    "    # print(json_data[5]['used_queries'][0]['query'])\n",
    "    \n",
    "    n_dropped = 0\n",
    "    count = 0\n",
    "    lst = []\n",
    "    \n",
    "    for i,_ in enumerate(json_data):\n",
    "        for j,_ in enumerate(json_data[i]['used_queries']):\n",
    "            count += 1\n",
    "            try:\n",
    "                #print(f'({i}, {j})')\n",
    "                lst.append(get_bot_q_and_a(json_data, i, j))\n",
    "            except IndexError:\n",
    "                n_dropped += 1\n",
    "    \n",
    "    print(f'Conversion completed, {n_dropped} of {count} skipped.')"
   ]
  },
  {
   "cell_type": "code",
   "execution_count": 164,
   "id": "8d25bc77",
   "metadata": {},
   "outputs": [
    {
     "data": {
      "text/html": [
       "<div>\n",
       "<style scoped>\n",
       "    .dataframe tbody tr th:only-of-type {\n",
       "        vertical-align: middle;\n",
       "    }\n",
       "\n",
       "    .dataframe tbody tr th {\n",
       "        vertical-align: top;\n",
       "    }\n",
       "\n",
       "    .dataframe thead th {\n",
       "        text-align: right;\n",
       "    }\n",
       "</style>\n",
       "<table border=\"1\" class=\"dataframe\">\n",
       "  <thead>\n",
       "    <tr style=\"text-align: right;\">\n",
       "      <th></th>\n",
       "      <th>question</th>\n",
       "      <th>response</th>\n",
       "    </tr>\n",
       "  </thead>\n",
       "  <tbody>\n",
       "    <tr>\n",
       "      <th>0</th>\n",
       "      <td>When did the simpsons first air on television?</td>\n",
       "      <td>History of The Simpsons The Simpsons is an Ame...</td>\n",
       "    </tr>\n",
       "    <tr>\n",
       "      <th>1</th>\n",
       "      <td>John adams tv</td>\n",
       "      <td>John Adams (miniseries) John Adams is a 2008 A...</td>\n",
       "    </tr>\n",
       "    <tr>\n",
       "      <th>2</th>\n",
       "      <td>legal age of marriage in usa</td>\n",
       "      <td>Marriage age in the United States The marriage...</td>\n",
       "    </tr>\n",
       "    <tr>\n",
       "      <th>3</th>\n",
       "      <td>Who starred in barefoot in the park on broadway?</td>\n",
       "      <td>Barefoot in the Park Barefoot in the Park is a...</td>\n",
       "    </tr>\n",
       "    <tr>\n",
       "      <th>4</th>\n",
       "      <td>When did the manhattan project began and end?</td>\n",
       "      <td>Manhattan Project The Manhattan Project was a ...</td>\n",
       "    </tr>\n",
       "    <tr>\n",
       "      <th>...</th>\n",
       "      <td>...</td>\n",
       "      <td>...</td>\n",
       "    </tr>\n",
       "    <tr>\n",
       "      <th>12862</th>\n",
       "      <td>Who does wonder woman end up with in the comics?</td>\n",
       "      <td>Steve Trevor General Steven Rockwell Trevor is...</td>\n",
       "    </tr>\n",
       "    <tr>\n",
       "      <th>12863</th>\n",
       "      <td>Who does wonder woman end up with in the comics?</td>\n",
       "      <td>Wonder Woman Wonder Woman is a fictional super...</td>\n",
       "    </tr>\n",
       "    <tr>\n",
       "      <th>12864</th>\n",
       "      <td>when were the first pair of jordans released</td>\n",
       "      <td>Air Jordan Air Jordan is a brand of basketball...</td>\n",
       "    </tr>\n",
       "    <tr>\n",
       "      <th>12865</th>\n",
       "      <td>when were the first pair of jordans released</td>\n",
       "      <td>Air Jordan Retro XII Background[edit]. Michael...</td>\n",
       "    </tr>\n",
       "    <tr>\n",
       "      <th>12866</th>\n",
       "      <td>when were the first pair of jordans released</td>\n",
       "      <td>Jordan Spiz'ike Michael Jordan and Spike Lee r...</td>\n",
       "    </tr>\n",
       "  </tbody>\n",
       "</table>\n",
       "<p>12867 rows × 2 columns</p>\n",
       "</div>"
      ],
      "text/plain": [
       "                                               question  \\\n",
       "0        When did the simpsons first air on television?   \n",
       "1                                         John adams tv   \n",
       "2                          legal age of marriage in usa   \n",
       "3      Who starred in barefoot in the park on broadway?   \n",
       "4         When did the manhattan project began and end?   \n",
       "...                                                 ...   \n",
       "12862  Who does wonder woman end up with in the comics?   \n",
       "12863  Who does wonder woman end up with in the comics?   \n",
       "12864      when were the first pair of jordans released   \n",
       "12865      when were the first pair of jordans released   \n",
       "12866      when were the first pair of jordans released   \n",
       "\n",
       "                                                response  \n",
       "0      History of The Simpsons The Simpsons is an Ame...  \n",
       "1      John Adams (miniseries) John Adams is a 2008 A...  \n",
       "2      Marriage age in the United States The marriage...  \n",
       "3      Barefoot in the Park Barefoot in the Park is a...  \n",
       "4      Manhattan Project The Manhattan Project was a ...  \n",
       "...                                                  ...  \n",
       "12862  Steve Trevor General Steven Rockwell Trevor is...  \n",
       "12863  Wonder Woman Wonder Woman is a fictional super...  \n",
       "12864  Air Jordan Air Jordan is a brand of basketball...  \n",
       "12865  Air Jordan Retro XII Background[edit]. Michael...  \n",
       "12866  Jordan Spiz'ike Michael Jordan and Spike Lee r...  \n",
       "\n",
       "[12867 rows x 2 columns]"
      ]
     },
     "execution_count": 164,
     "metadata": {},
     "output_type": "execute_result"
    }
   ],
   "source": [
    "pd.DataFrame(lst)"
   ]
  }
 ],
 "metadata": {
  "kernelspec": {
   "display_name": "Python 3 (ipykernel)",
   "language": "python",
   "name": "python3"
  },
  "language_info": {
   "codemirror_mode": {
    "name": "ipython",
    "version": 3
   },
   "file_extension": ".py",
   "mimetype": "text/x-python",
   "name": "python",
   "nbconvert_exporter": "python",
   "pygments_lexer": "ipython3",
   "version": "3.10.2"
  }
 },
 "nbformat": 4,
 "nbformat_minor": 5
}
