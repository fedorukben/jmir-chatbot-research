{
 "cells": [
  {
   "cell_type": "code",
   "execution_count": 87,
   "id": "8e6c84a1",
   "metadata": {},
   "outputs": [
    {
     "name": "stdout",
     "output_type": "stream",
     "text": [
      "Defaulting to user installation because normal site-packages is not writeable\n",
      "Requirement already satisfied: pandas in /home/ben/.local/lib/python3.10/site-packages (1.3.5)\n",
      "Requirement already satisfied: beautifulsoup4 in /usr/lib/python3.10/site-packages (4.10.0)\n",
      "Requirement already satisfied: soupsieve>1.2 in /usr/lib/python3.10/site-packages (from beautifulsoup4) (2.2.1)\n",
      "Requirement already satisfied: numpy>=1.21.0 in /home/ben/.local/lib/python3.10/site-packages (from pandas) (1.22.0)\n",
      "Requirement already satisfied: pytz>=2017.3 in /home/ben/.local/lib/python3.10/site-packages (from pandas) (2021.3)\n",
      "Requirement already satisfied: python-dateutil>=2.7.3 in /usr/lib/python3.10/site-packages (from pandas) (2.8.2)\n",
      "Requirement already satisfied: six>=1.5 in /usr/lib/python3.10/site-packages (from python-dateutil>=2.7.3->pandas) (1.16.0)\n",
      "Note: you may need to restart the kernel to use updated packages.\n"
     ]
    }
   ],
   "source": [
    "%pip install pandas beautifulsoup4"
   ]
  },
  {
   "cell_type": "code",
   "execution_count": 98,
   "id": "98e23aff",
   "metadata": {},
   "outputs": [],
   "source": [
    "import pandas as pd\n",
    "from bs4 import BeautifulSoup\n",
    "import json\n",
    "import re"
   ]
  },
  {
   "cell_type": "code",
   "execution_count": 128,
   "id": "ee0c93b8",
   "metadata": {},
   "outputs": [],
   "source": [
    "def get_bot_q_and_a(json_data, i, j):\n",
    "    return {'question': json_data[i]['used_queries'][0]['query'], 'response': BeautifulSoup(re.sub('<[^<]+?>', '', ' '.join(list(json_data[i]['used_queries'][0]['results'][j].values())))).text}"
   ]
  },
  {
   "cell_type": "code",
   "execution_count": 158,
   "id": "5d8cdcae",
   "metadata": {},
   "outputs": [
    {
     "name": "stderr",
     "output_type": "stream",
     "text": [
      "IOPub data rate exceeded.\n",
      "The notebook server will temporarily stop sending output\n",
      "to the client in order to avoid crashing it.\n",
      "To change this limit, set the config variable\n",
      "`--NotebookApp.iopub_data_rate_limit`.\n",
      "\n",
      "Current values:\n",
      "NotebookApp.iopub_data_rate_limit=1000000.0 (bytes/sec)\n",
      "NotebookApp.rate_limit_window=3.0 (secs)\n",
      "\n"
     ]
    }
   ],
   "source": [
    "with open('../data/train.json') as json_file:\n",
    "    json_data = json.load(json_file)\n",
    "\n",
    "    # print(get_bot_q_and_a(json_data, 5, 0))\n",
    "    # print(json_data[5]['used_queries'][0]['query'])\n",
    "    \n",
    "    n_dropped = 0\n",
    "    count = 0\n",
    "    lst = []\n",
    "    \n",
    "    for i,_ in enumerate(json_data):\n",
    "        for j,x in enumerate(json_data[i]['used_queries']):\n",
    "            count += 1\n",
    "            try:\n",
    "                #print(f'({i}, {j})')\n",
    "                lst.append(get_bot_q_and_a(json_data, i, j))\n",
    "            except IndexError:\n",
    "                n_dropped += 1\n",
    "    \n",
    "    print(f'Conversion completed, {n_dropped} of {count} skipped.')\n",
    "    print(lst)"
   ]
  },
  {
   "cell_type": "code",
   "execution_count": null,
   "id": "72d6f291",
   "metadata": {},
   "outputs": [],
   "source": []
  }
 ],
 "metadata": {
  "kernelspec": {
   "display_name": "Python 3 (ipykernel)",
   "language": "python",
   "name": "python3"
  },
  "language_info": {
   "codemirror_mode": {
    "name": "ipython",
    "version": 3
   },
   "file_extension": ".py",
   "mimetype": "text/x-python",
   "name": "python",
   "nbconvert_exporter": "python",
   "pygments_lexer": "ipython3",
   "version": "3.10.2"
  }
 },
 "nbformat": 4,
 "nbformat_minor": 5
}
